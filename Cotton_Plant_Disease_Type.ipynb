{
 "cells": [
  {
   "cell_type": "code",
   "execution_count": 1,
   "id": "ca85e494",
   "metadata": {},
   "outputs": [],
   "source": [
    "import pandas as pd\n",
    "import numpy as np\n",
    "\n",
    "from sklearn import preprocessing  \n",
    "from sklearn.preprocessing import LabelEncoder,MinMaxScaler, StandardScaler\n",
    "from sklearn.model_selection import train_test_split\n",
    "from sklearn.linear_model import LogisticRegression\n",
    "from sklearn.ensemble import RandomForestClassifier\n",
    "from sklearn.metrics import accuracy_score, classification_report, confusion_matrix\n"
   ]
  },
  {
   "cell_type": "code",
   "execution_count": 2,
   "id": "3f773268",
   "metadata": {},
   "outputs": [],
   "source": [
    "df=pd.read_csv('cotton_plant_dataset.csv')"
   ]
  },
  {
   "cell_type": "code",
   "execution_count": 3,
   "id": "bb87380a",
   "metadata": {},
   "outputs": [
    {
     "data": {
      "text/plain": [
       "(5000, 10)"
      ]
     },
     "execution_count": 3,
     "metadata": {},
     "output_type": "execute_result"
    }
   ],
   "source": [
    "df.shape"
   ]
  },
  {
   "cell_type": "code",
   "execution_count": 4,
   "id": "6f8394d1",
   "metadata": {},
   "outputs": [
    {
     "name": "stdout",
     "output_type": "stream",
     "text": [
      "<class 'pandas.core.frame.DataFrame'>\n",
      "RangeIndex: 5000 entries, 0 to 4999\n",
      "Data columns (total 10 columns):\n",
      " #   Column             Non-Null Count  Dtype  \n",
      "---  ------             --------------  -----  \n",
      " 0   Location/Field     5000 non-null   object \n",
      " 1   Leaf_Color         5000 non-null   object \n",
      " 2   Symptoms           3948 non-null   object \n",
      " 3   Whitefly_Presence  5000 non-null   object \n",
      " 4   Temperature        5000 non-null   float64\n",
      " 5   Humidity           5000 non-null   object \n",
      " 6   Soil_Moisture      3948 non-null   object \n",
      " 7   Previous_Crop      5000 non-null   object \n",
      " 8   Cotton_Variety     5000 non-null   object \n",
      " 9   Disease_Type       5000 non-null   object \n",
      "dtypes: float64(1), object(9)\n",
      "memory usage: 390.8+ KB\n"
     ]
    }
   ],
   "source": [
    "df.info()"
   ]
  },
  {
   "cell_type": "code",
   "execution_count": 5,
   "id": "ab19f8e0",
   "metadata": {},
   "outputs": [
    {
     "data": {
      "text/plain": [
       "Index(['Location/Field', 'Leaf_Color', 'Symptoms', 'Whitefly_Presence',\n",
       "       'Temperature', 'Humidity', 'Soil_Moisture', 'Previous_Crop',\n",
       "       'Cotton_Variety', 'Disease_Type'],\n",
       "      dtype='object')"
      ]
     },
     "execution_count": 5,
     "metadata": {},
     "output_type": "execute_result"
    }
   ],
   "source": [
    "df.columns"
   ]
  },
  {
   "cell_type": "code",
   "execution_count": 6,
   "id": "381f6c6e",
   "metadata": {},
   "outputs": [
    {
     "data": {
      "text/html": [
       "<div>\n",
       "<style scoped>\n",
       "    .dataframe tbody tr th:only-of-type {\n",
       "        vertical-align: middle;\n",
       "    }\n",
       "\n",
       "    .dataframe tbody tr th {\n",
       "        vertical-align: top;\n",
       "    }\n",
       "\n",
       "    .dataframe thead th {\n",
       "        text-align: right;\n",
       "    }\n",
       "</style>\n",
       "<table border=\"1\" class=\"dataframe\">\n",
       "  <thead>\n",
       "    <tr style=\"text-align: right;\">\n",
       "      <th></th>\n",
       "      <th>Temperature</th>\n",
       "    </tr>\n",
       "  </thead>\n",
       "  <tbody>\n",
       "    <tr>\n",
       "      <th>count</th>\n",
       "      <td>5000.000000</td>\n",
       "    </tr>\n",
       "    <tr>\n",
       "      <th>mean</th>\n",
       "      <td>24.877171</td>\n",
       "    </tr>\n",
       "    <tr>\n",
       "      <th>std</th>\n",
       "      <td>5.751866</td>\n",
       "    </tr>\n",
       "    <tr>\n",
       "      <th>min</th>\n",
       "      <td>15.000233</td>\n",
       "    </tr>\n",
       "    <tr>\n",
       "      <th>25%</th>\n",
       "      <td>19.902915</td>\n",
       "    </tr>\n",
       "    <tr>\n",
       "      <th>50%</th>\n",
       "      <td>24.753022</td>\n",
       "    </tr>\n",
       "    <tr>\n",
       "      <th>75%</th>\n",
       "      <td>29.831628</td>\n",
       "    </tr>\n",
       "    <tr>\n",
       "      <th>max</th>\n",
       "      <td>34.991154</td>\n",
       "    </tr>\n",
       "  </tbody>\n",
       "</table>\n",
       "</div>"
      ],
      "text/plain": [
       "       Temperature\n",
       "count  5000.000000\n",
       "mean     24.877171\n",
       "std       5.751866\n",
       "min      15.000233\n",
       "25%      19.902915\n",
       "50%      24.753022\n",
       "75%      29.831628\n",
       "max      34.991154"
      ]
     },
     "execution_count": 6,
     "metadata": {},
     "output_type": "execute_result"
    }
   ],
   "source": [
    "df.describe()"
   ]
  },
  {
   "cell_type": "code",
   "execution_count": 7,
   "id": "ed76b54a",
   "metadata": {},
   "outputs": [
    {
     "data": {
      "text/html": [
       "<div>\n",
       "<style scoped>\n",
       "    .dataframe tbody tr th:only-of-type {\n",
       "        vertical-align: middle;\n",
       "    }\n",
       "\n",
       "    .dataframe tbody tr th {\n",
       "        vertical-align: top;\n",
       "    }\n",
       "\n",
       "    .dataframe thead th {\n",
       "        text-align: right;\n",
       "    }\n",
       "</style>\n",
       "<table border=\"1\" class=\"dataframe\">\n",
       "  <thead>\n",
       "    <tr style=\"text-align: right;\">\n",
       "      <th></th>\n",
       "      <th>Location/Field</th>\n",
       "      <th>Leaf_Color</th>\n",
       "      <th>Symptoms</th>\n",
       "      <th>Whitefly_Presence</th>\n",
       "      <th>Temperature</th>\n",
       "      <th>Humidity</th>\n",
       "      <th>Soil_Moisture</th>\n",
       "      <th>Previous_Crop</th>\n",
       "      <th>Cotton_Variety</th>\n",
       "      <th>Disease_Type</th>\n",
       "    </tr>\n",
       "  </thead>\n",
       "  <tbody>\n",
       "    <tr>\n",
       "      <th>0</th>\n",
       "      <td>Rajasthan</td>\n",
       "      <td>Yellow</td>\n",
       "      <td>Wilting</td>\n",
       "      <td>No</td>\n",
       "      <td>24.153992</td>\n",
       "      <td>Mid</td>\n",
       "      <td>Moist</td>\n",
       "      <td>Oilseeds</td>\n",
       "      <td>Hybrid</td>\n",
       "      <td>Fusarium Wilt</td>\n",
       "    </tr>\n",
       "    <tr>\n",
       "      <th>1</th>\n",
       "      <td>Telangana</td>\n",
       "      <td>Green</td>\n",
       "      <td>NaN</td>\n",
       "      <td>Yes</td>\n",
       "      <td>19.177654</td>\n",
       "      <td>Mid</td>\n",
       "      <td>NaN</td>\n",
       "      <td>Legumes</td>\n",
       "      <td>Region-Specific</td>\n",
       "      <td>Cotton Leaf Curl Disease</td>\n",
       "    </tr>\n",
       "    <tr>\n",
       "      <th>2</th>\n",
       "      <td>West Bengal</td>\n",
       "      <td>Green</td>\n",
       "      <td>Absent</td>\n",
       "      <td>No</td>\n",
       "      <td>22.374143</td>\n",
       "      <td>Low</td>\n",
       "      <td>Warm</td>\n",
       "      <td>Grains</td>\n",
       "      <td>Hybrid</td>\n",
       "      <td>Normal</td>\n",
       "    </tr>\n",
       "    <tr>\n",
       "      <th>3</th>\n",
       "      <td>Jharkhand</td>\n",
       "      <td>Green</td>\n",
       "      <td>NaN</td>\n",
       "      <td>Yes</td>\n",
       "      <td>22.396265</td>\n",
       "      <td>High</td>\n",
       "      <td>NaN</td>\n",
       "      <td>Grains</td>\n",
       "      <td>Hybrid</td>\n",
       "      <td>Cotton Leaf Curl Disease</td>\n",
       "    </tr>\n",
       "    <tr>\n",
       "      <th>4</th>\n",
       "      <td>Uttar Pradesh</td>\n",
       "      <td>Yellow</td>\n",
       "      <td>Wilting</td>\n",
       "      <td>No</td>\n",
       "      <td>16.047100</td>\n",
       "      <td>Mid</td>\n",
       "      <td>Moist</td>\n",
       "      <td>Oilseeds</td>\n",
       "      <td>Region-Specific</td>\n",
       "      <td>Fusarium Wilt</td>\n",
       "    </tr>\n",
       "  </tbody>\n",
       "</table>\n",
       "</div>"
      ],
      "text/plain": [
       "  Location/Field Leaf_Color Symptoms Whitefly_Presence  Temperature Humidity  \\\n",
       "0      Rajasthan     Yellow  Wilting                No    24.153992      Mid   \n",
       "1      Telangana      Green      NaN               Yes    19.177654      Mid   \n",
       "2    West Bengal      Green   Absent                No    22.374143      Low   \n",
       "3      Jharkhand      Green      NaN               Yes    22.396265     High   \n",
       "4  Uttar Pradesh     Yellow  Wilting                No    16.047100      Mid   \n",
       "\n",
       "  Soil_Moisture Previous_Crop   Cotton_Variety              Disease_Type  \n",
       "0         Moist      Oilseeds           Hybrid             Fusarium Wilt  \n",
       "1           NaN       Legumes  Region-Specific  Cotton Leaf Curl Disease  \n",
       "2          Warm        Grains           Hybrid                    Normal  \n",
       "3           NaN        Grains           Hybrid  Cotton Leaf Curl Disease  \n",
       "4         Moist      Oilseeds  Region-Specific             Fusarium Wilt  "
      ]
     },
     "execution_count": 7,
     "metadata": {},
     "output_type": "execute_result"
    }
   ],
   "source": [
    "df.head()"
   ]
  },
  {
   "cell_type": "code",
   "execution_count": 8,
   "id": "c4bcce3c",
   "metadata": {},
   "outputs": [],
   "source": [
    "df['Temperature'] = df['Temperature'].round().astype(int)\n",
    "df=df.rename(columns={\"Temperature\":\"Temperature(Celsius)\"})\n"
   ]
  },
  {
   "cell_type": "code",
   "execution_count": 9,
   "id": "8b294110",
   "metadata": {},
   "outputs": [
    {
     "data": {
      "text/plain": [
       "Location/Field          object\n",
       "Leaf_Color              object\n",
       "Symptoms                object\n",
       "Whitefly_Presence       object\n",
       "Temperature(Celsius)     int32\n",
       "Humidity                object\n",
       "Soil_Moisture           object\n",
       "Previous_Crop           object\n",
       "Cotton_Variety          object\n",
       "Disease_Type            object\n",
       "dtype: object"
      ]
     },
     "execution_count": 9,
     "metadata": {},
     "output_type": "execute_result"
    }
   ],
   "source": [
    "df.dtypes"
   ]
  },
  {
   "cell_type": "code",
   "execution_count": 10,
   "id": "bbe66092",
   "metadata": {},
   "outputs": [
    {
     "data": {
      "text/plain": [
       "Disease_Type\n",
       "Cotton Leaf Curl Disease    1052\n",
       "Normal                      1024\n",
       "Bacterial Blight             994\n",
       "Fusarium Wilt                981\n",
       "Verticillium Wilt            949\n",
       "Name: count, dtype: int64"
      ]
     },
     "execution_count": 10,
     "metadata": {},
     "output_type": "execute_result"
    }
   ],
   "source": [
    "df.Disease_Type.value_counts()"
   ]
  },
  {
   "cell_type": "code",
   "execution_count": 11,
   "id": "a3e18755",
   "metadata": {},
   "outputs": [
    {
     "data": {
      "text/plain": [
       "Leaf_Color\n",
       "Green     2076\n",
       "Yellow    1930\n",
       "Brown      994\n",
       "Name: count, dtype: int64"
      ]
     },
     "execution_count": 11,
     "metadata": {},
     "output_type": "execute_result"
    }
   ],
   "source": [
    "df.Leaf_Color.value_counts()"
   ]
  },
  {
   "cell_type": "code",
   "execution_count": 12,
   "id": "c29b1892",
   "metadata": {},
   "outputs": [
    {
     "data": {
      "text/plain": [
       "Symptoms\n",
       "Wilting    1930\n",
       "Absent     1024\n",
       "Lesions     994\n",
       "Name: count, dtype: int64"
      ]
     },
     "execution_count": 12,
     "metadata": {},
     "output_type": "execute_result"
    }
   ],
   "source": [
    "df.Symptoms.value_counts()"
   ]
  },
  {
   "cell_type": "code",
   "execution_count": 13,
   "id": "79c9307b",
   "metadata": {},
   "outputs": [
    {
     "data": {
      "text/plain": [
       "Humidity\n",
       "Mid     1671\n",
       "Low     1671\n",
       "High    1658\n",
       "Name: count, dtype: int64"
      ]
     },
     "execution_count": 13,
     "metadata": {},
     "output_type": "execute_result"
    }
   ],
   "source": [
    "df.Humidity.value_counts()"
   ]
  },
  {
   "cell_type": "code",
   "execution_count": 14,
   "id": "6372a52e",
   "metadata": {},
   "outputs": [
    {
     "data": {
      "text/plain": [
       "Soil_Moisture\n",
       "Warm     2018\n",
       "Moist     981\n",
       "Dry       949\n",
       "Name: count, dtype: int64"
      ]
     },
     "execution_count": 14,
     "metadata": {},
     "output_type": "execute_result"
    }
   ],
   "source": [
    "df.Soil_Moisture.value_counts()"
   ]
  },
  {
   "cell_type": "code",
   "execution_count": 15,
   "id": "0179ae70",
   "metadata": {},
   "outputs": [
    {
     "data": {
      "text/plain": [
       "Cotton_Variety\n",
       "Region-Specific    2538\n",
       "Hybrid             2462\n",
       "Name: count, dtype: int64"
      ]
     },
     "execution_count": 15,
     "metadata": {},
     "output_type": "execute_result"
    }
   ],
   "source": [
    "df.Cotton_Variety.value_counts()"
   ]
  },
  {
   "cell_type": "code",
   "execution_count": 29,
   "id": "b9661d34",
   "metadata": {},
   "outputs": [
    {
     "data": {
      "text/plain": [
       "Location/Field          0\n",
       "Leaf_Color              0\n",
       "Symptoms                0\n",
       "Whitefly_Presence       0\n",
       "Temperature(Celsius)    0\n",
       "Humidity                0\n",
       "Soil_Moisture           0\n",
       "Previous_Crop           0\n",
       "Cotton_Variety          0\n",
       "Disease_Type            0\n",
       "dtype: int64"
      ]
     },
     "execution_count": 29,
     "metadata": {},
     "output_type": "execute_result"
    }
   ],
   "source": [
    "df.isnull().sum()"
   ]
  },
  {
   "cell_type": "code",
   "execution_count": 30,
   "id": "9ff9adaf",
   "metadata": {},
   "outputs": [],
   "source": [
    "columns=df.columns"
   ]
  },
  {
   "cell_type": "code",
   "execution_count": 18,
   "id": "3c95008e",
   "metadata": {},
   "outputs": [],
   "source": [
    "label_encoder = LabelEncoder()\n",
    "\n",
    "for column in columns:\n",
    "    df[column] = label_encoder.fit_transform(df[column])\n"
   ]
  },
  {
   "cell_type": "code",
   "execution_count": 19,
   "id": "34c655c9",
   "metadata": {},
   "outputs": [
    {
     "data": {
      "text/html": [
       "<div>\n",
       "<style scoped>\n",
       "    .dataframe tbody tr th:only-of-type {\n",
       "        vertical-align: middle;\n",
       "    }\n",
       "\n",
       "    .dataframe tbody tr th {\n",
       "        vertical-align: top;\n",
       "    }\n",
       "\n",
       "    .dataframe thead th {\n",
       "        text-align: right;\n",
       "    }\n",
       "</style>\n",
       "<table border=\"1\" class=\"dataframe\">\n",
       "  <thead>\n",
       "    <tr style=\"text-align: right;\">\n",
       "      <th></th>\n",
       "      <th>Location/Field</th>\n",
       "      <th>Leaf_Color</th>\n",
       "      <th>Symptoms</th>\n",
       "      <th>Whitefly_Presence</th>\n",
       "      <th>Temperature(Celsius)</th>\n",
       "      <th>Humidity</th>\n",
       "      <th>Soil_Moisture</th>\n",
       "      <th>Previous_Crop</th>\n",
       "      <th>Cotton_Variety</th>\n",
       "      <th>Disease_Type</th>\n",
       "    </tr>\n",
       "  </thead>\n",
       "  <tbody>\n",
       "    <tr>\n",
       "      <th>0</th>\n",
       "      <td>10</td>\n",
       "      <td>2</td>\n",
       "      <td>2</td>\n",
       "      <td>0</td>\n",
       "      <td>9</td>\n",
       "      <td>2</td>\n",
       "      <td>1</td>\n",
       "      <td>2</td>\n",
       "      <td>0</td>\n",
       "      <td>2</td>\n",
       "    </tr>\n",
       "    <tr>\n",
       "      <th>1</th>\n",
       "      <td>12</td>\n",
       "      <td>1</td>\n",
       "      <td>3</td>\n",
       "      <td>1</td>\n",
       "      <td>4</td>\n",
       "      <td>2</td>\n",
       "      <td>3</td>\n",
       "      <td>1</td>\n",
       "      <td>1</td>\n",
       "      <td>1</td>\n",
       "    </tr>\n",
       "    <tr>\n",
       "      <th>2</th>\n",
       "      <td>14</td>\n",
       "      <td>1</td>\n",
       "      <td>0</td>\n",
       "      <td>0</td>\n",
       "      <td>7</td>\n",
       "      <td>1</td>\n",
       "      <td>2</td>\n",
       "      <td>0</td>\n",
       "      <td>0</td>\n",
       "      <td>3</td>\n",
       "    </tr>\n",
       "    <tr>\n",
       "      <th>3</th>\n",
       "      <td>4</td>\n",
       "      <td>1</td>\n",
       "      <td>3</td>\n",
       "      <td>1</td>\n",
       "      <td>7</td>\n",
       "      <td>0</td>\n",
       "      <td>3</td>\n",
       "      <td>0</td>\n",
       "      <td>0</td>\n",
       "      <td>1</td>\n",
       "    </tr>\n",
       "    <tr>\n",
       "      <th>4</th>\n",
       "      <td>13</td>\n",
       "      <td>2</td>\n",
       "      <td>2</td>\n",
       "      <td>0</td>\n",
       "      <td>1</td>\n",
       "      <td>2</td>\n",
       "      <td>1</td>\n",
       "      <td>2</td>\n",
       "      <td>1</td>\n",
       "      <td>2</td>\n",
       "    </tr>\n",
       "  </tbody>\n",
       "</table>\n",
       "</div>"
      ],
      "text/plain": [
       "   Location/Field  Leaf_Color  Symptoms  Whitefly_Presence  \\\n",
       "0              10           2         2                  0   \n",
       "1              12           1         3                  1   \n",
       "2              14           1         0                  0   \n",
       "3               4           1         3                  1   \n",
       "4              13           2         2                  0   \n",
       "\n",
       "   Temperature(Celsius)  Humidity  Soil_Moisture  Previous_Crop  \\\n",
       "0                     9         2              1              2   \n",
       "1                     4         2              3              1   \n",
       "2                     7         1              2              0   \n",
       "3                     7         0              3              0   \n",
       "4                     1         2              1              2   \n",
       "\n",
       "   Cotton_Variety  Disease_Type  \n",
       "0               0             2  \n",
       "1               1             1  \n",
       "2               0             3  \n",
       "3               0             1  \n",
       "4               1             2  "
      ]
     },
     "execution_count": 19,
     "metadata": {},
     "output_type": "execute_result"
    }
   ],
   "source": [
    "df.head()"
   ]
  },
  {
   "cell_type": "code",
   "execution_count": 20,
   "id": "d1585e23",
   "metadata": {},
   "outputs": [
    {
     "data": {
      "text/plain": [
       "Location/Field          int32\n",
       "Leaf_Color              int32\n",
       "Symptoms                int32\n",
       "Whitefly_Presence       int32\n",
       "Temperature(Celsius)    int64\n",
       "Humidity                int32\n",
       "Soil_Moisture           int32\n",
       "Previous_Crop           int32\n",
       "Cotton_Variety          int32\n",
       "Disease_Type            int32\n",
       "dtype: object"
      ]
     },
     "execution_count": 20,
     "metadata": {},
     "output_type": "execute_result"
    }
   ],
   "source": [
    "df.dtypes"
   ]
  },
  {
   "cell_type": "code",
   "execution_count": 21,
   "id": "c4f4a545",
   "metadata": {},
   "outputs": [],
   "source": [
    "X = df[['Location/Field', 'Leaf_Color', 'Symptoms',\n",
    "        'Cotton_Variety']]\n",
    "y = df['Disease_Type']\n"
   ]
  },
  {
   "cell_type": "code",
   "execution_count": 22,
   "id": "457bdf28",
   "metadata": {},
   "outputs": [],
   "source": [
    "X_train, X_test, y_train, y_test = train_test_split(X, y, test_size=0.2, random_state=42)\n",
    "scaler = StandardScaler()\n",
    "X_train_scaled = scaler.fit_transform(X_train)\n",
    "X_test_scaled = scaler.transform(X_test)"
   ]
  },
  {
   "cell_type": "code",
   "execution_count": 23,
   "id": "3507f7a6",
   "metadata": {},
   "outputs": [],
   "source": [
    "regression = LogisticRegression(random_state=42)\n",
    "regression.fit(X_train_scaled, y_train)\n",
    "y_pred_r = regression.predict(X_test_scaled)"
   ]
  },
  {
   "cell_type": "code",
   "execution_count": 24,
   "id": "3bb7edb1",
   "metadata": {},
   "outputs": [
    {
     "name": "stdout",
     "output_type": "stream",
     "text": [
      "Accuracy: 0.81\n",
      "Classification Report:\n",
      "              precision    recall  f1-score   support\n",
      "\n",
      "           0       1.00      1.00      1.00       187\n",
      "           1       1.00      1.00      1.00       200\n",
      "           2       0.51      0.71      0.60       198\n",
      "           3       1.00      1.00      1.00       216\n",
      "           4       0.54      0.34      0.41       199\n",
      "\n",
      "    accuracy                           0.81      1000\n",
      "   macro avg       0.81      0.81      0.80      1000\n",
      "weighted avg       0.81      0.81      0.80      1000\n",
      "\n",
      "Confusion Matrix:\n",
      "[[187   0   0   0   0]\n",
      " [  0 200   0   0   0]\n",
      " [  0   0 140   0  58]\n",
      " [  0   0   0 216   0]\n",
      " [  0   0 132   0  67]]\n"
     ]
    }
   ],
   "source": [
    "accuracy_r = accuracy_score(y_test, y_pred_r)\n",
    "print(f'Accuracy: {accuracy_r}')\n",
    "\n",
    "print('Classification Report:')\n",
    "print(classification_report(y_test, y_pred_r))\n",
    "\n",
    "conf_matrix = confusion_matrix(y_test, y_pred_r)\n",
    "print('Confusion Matrix:')\n",
    "print(conf_matrix)"
   ]
  },
  {
   "cell_type": "code",
   "execution_count": 25,
   "id": "10652af3",
   "metadata": {},
   "outputs": [],
   "source": [
    "classifier = RandomForestClassifier(n_estimators=100, random_state=42)\n",
    "classifier.fit(X_train, y_train)\n",
    "y_pred_c = classifier.predict(X_test)"
   ]
  },
  {
   "cell_type": "markdown",
   "id": "aec6c3e6",
   "metadata": {},
   "source": [
    "CPU times: total: 1min 57s\n",
    "Wall time: 3min 56s\n"
   ]
  },
  {
   "cell_type": "code",
   "execution_count": 26,
   "id": "2fa2a0d8",
   "metadata": {},
   "outputs": [
    {
     "name": "stdout",
     "output_type": "stream",
     "text": [
      "Accuracy: 0.79\n",
      "Classification Report:\n",
      "              precision    recall  f1-score   support\n",
      "\n",
      "           0       1.00      1.00      1.00       187\n",
      "           1       1.00      1.00      1.00       200\n",
      "           2       0.47      0.57      0.52       198\n",
      "           3       1.00      1.00      1.00       216\n",
      "           4       0.47      0.37      0.41       199\n",
      "\n",
      "    accuracy                           0.79      1000\n",
      "   macro avg       0.79      0.79      0.79      1000\n",
      "weighted avg       0.79      0.79      0.79      1000\n",
      "\n",
      "Confusion Matrix:\n",
      "[[187   0   0   0   0]\n",
      " [  0 200   0   0   0]\n",
      " [  0   0 113   0  85]\n",
      " [  0   0   0 216   0]\n",
      " [  0   0 125   0  74]]\n"
     ]
    }
   ],
   "source": [
    "accuracy_c = accuracy_score(y_test, y_pred_c)\n",
    "print(f'Accuracy: {accuracy_c}')\n",
    "\n",
    "print('Classification Report:')\n",
    "print(classification_report(y_test, y_pred_c))\n",
    "\n",
    "conf_matrix = confusion_matrix(y_test, y_pred_c)\n",
    "print('Confusion Matrix:')\n",
    "print(conf_matrix)"
   ]
  },
  {
   "cell_type": "code",
   "execution_count": 27,
   "id": "4bc7efd1",
   "metadata": {},
   "outputs": [
    {
     "name": "stdout",
     "output_type": "stream",
     "text": [
      "LOGISTIC REGRESSION\n",
      "0.81\n",
      "RANDOMFORESTCLASSIFIER \n",
      "0.79\n"
     ]
    }
   ],
   "source": [
    "print(\"LOGISTIC REGRESSION\")\n",
    "print(accuracy_r)\n",
    "print(\"RANDOMFORESTCLASSIFIER \")\n",
    "print(accuracy_c)"
   ]
  }
 ],
 "metadata": {
  "kernelspec": {
   "display_name": "Python 3 (ipykernel)",
   "language": "python",
   "name": "python3"
  },
  "language_info": {
   "codemirror_mode": {
    "name": "ipython",
    "version": 3
   },
   "file_extension": ".py",
   "mimetype": "text/x-python",
   "name": "python",
   "nbconvert_exporter": "python",
   "pygments_lexer": "ipython3",
   "version": "3.11.5"
  }
 },
 "nbformat": 4,
 "nbformat_minor": 5
}
